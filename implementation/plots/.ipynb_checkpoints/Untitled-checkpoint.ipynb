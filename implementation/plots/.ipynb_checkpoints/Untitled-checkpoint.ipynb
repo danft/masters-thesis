{
 "cells": [
  {
   "cell_type": "code",
   "execution_count": 88,
   "metadata": {},
   "outputs": [],
   "source": [
    "import shapely.geometry as sg\n",
    "import matplotlib.pyplot as plt\n",
    "import descartes\n",
    "import matplotlib.cm as cm\n",
    "import numpy as np\n"
   ]
  },
  {
   "cell_type": "code",
   "execution_count": 125,
   "metadata": {},
   "outputs": [],
   "source": [
    "plt.rc('text', usetex=True)\n",
    "plt.rc('font',size=14)\n",
    "colors=cm.OrRd(np.linspace(0.5, 1, 3))\n",
    "\n",
    "cx=[0.3, 1]\n",
    "cy=[0,0]\n",
    "\n",
    "cc = [sg.Point(cx[i], cy[i]).buffer(1.) for i in range(0,2)]\n",
    "intera = cc[0].boundary.intersection(cc[1].boundary)\n",
    "for p in intera:\n",
    "    plt.scatter(p.x, p.y, color='red')\n",
    "\n",
    "cc1 = plt.Circle((0.3, 0), 1, fill=False, alpha=.8,color=colors[0])\n",
    "cc2 = plt.Circle((1, 0), 1, fill=False, alpha=.8, color=colors[1])\n",
    "ax=plt.gca()\n",
    "ax.add_artist(cc1)\n",
    "ax.add_artist(cc2)\n",
    "ax.set_xlim(-0.8,2.3)\n",
    "ax.set_ylim(-1,1.1)\n",
    "ax.set_aspect('equal')\n",
    "plt.axis('off')\n",
    "plt.arrow(1.3,0.05, 0, 0.01, shape='full', lw=0,length_includes_head=True, head_width=.08,color='black')\n",
    "\n",
    "plt.annotate(r'$\\Gamma_+(1,2)$', (0.42, -0.8))\n",
    "#plt.annotate(r'$\\Gamma_+(1,2)$', (intera[0].x, intera[0].y))\n",
    "\n",
    "plt.annotate(r'$\\Gamma_-(1,2)$', (0.45, 0.67))\n",
    "plt.annotate(r'$D_1$', (-0.8, 0.7))\n",
    "plt.annotate(r'$D_2$', (1.9, 0.7))\n",
    "\n",
    "\n",
    "\n",
    "a = [sg.Point(cx[i],cy[i]).buffer(1.) for i in range(0,2)]\n",
    "inter = a[0].intersection(a[1])\n",
    "\n",
    "ax.add_patch(descartes.PolygonPatch(inter, fc=colors[2], ec='k', alpha=.1))\n",
    "\n",
    "\n",
    "\n",
    "\n",
    "\n",
    "#plt.show()\n",
    "plt.savefig(\"gammas.pdf\",bbox_inches='tight')\n",
    "#plt.show()\n",
    "plt.close()"
   ]
  },
  {
   "cell_type": "code",
   "execution_count": null,
   "metadata": {},
   "outputs": [],
   "source": []
  }
 ],
 "metadata": {
  "kernelspec": {
   "display_name": "Python 3",
   "language": "python",
   "name": "python3"
  },
  "language_info": {
   "codemirror_mode": {
    "name": "ipython",
    "version": 3
   },
   "file_extension": ".py",
   "mimetype": "text/x-python",
   "name": "python",
   "nbconvert_exporter": "python",
   "pygments_lexer": "ipython3",
   "version": "3.7.3"
  }
 },
 "nbformat": 4,
 "nbformat_minor": 2
}
