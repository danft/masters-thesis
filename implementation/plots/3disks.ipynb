{
 "cells": [
  {
   "cell_type": "code",
   "execution_count": 12,
   "metadata": {},
   "outputs": [],
   "source": [
    "import matplotlib as mp\n",
    "mp.use(\"pgf\")\n",
    "import shapely.geometry as sg\n",
    "import matplotlib.pyplot as plt\n",
    "import descartes\n",
    "import matplotlib.cm as cm\n",
    "import numpy as np\n",
    "\n",
    "plt.ioff()"
   ]
  },
  {
   "cell_type": "code",
   "execution_count": 17,
   "metadata": {},
   "outputs": [
    {
     "data": {
      "text/plain": [
       "[]"
      ]
     },
     "execution_count": 17,
     "metadata": {},
     "output_type": "execute_result"
    }
   ],
   "source": [
    "circle1 = plt.Circle((-.5,0), 1, color='r', alpha=.2)\n",
    "circle2 = plt.Circle(( .5,0), 1, color='b', alpha=.2)\n",
    "\n",
    "# add them to the plot (bad form to use ;, but saving space)\n",
    "# and control the display a bit\n",
    "ax = plt.gca()\n",
    "ax.add_artist(circle1); ax.add_artist(circle2)\n",
    "ax.set_xlim(-2, 2); ax.set_ylim(-2, 2)\n",
    "ax.set_aspect('equal')\n",
    "\n",
    "# display it\n",
    "plt.plot()"
   ]
  },
  {
   "cell_type": "code",
   "execution_count": 18,
   "metadata": {},
   "outputs": [],
   "source": [
    "# globals\n",
    "colors=cm.OrRd(np.linspace(0.5, 1, 3))\n",
    "#colors=['red', 'green', 'blue']\n",
    "cx=[-0.8,-0.2,.9]\n",
    "cy=[-0.2,0.4,-0.4]\n"
   ]
  },
  {
   "cell_type": "code",
   "execution_count": 72,
   "metadata": {},
   "outputs": [],
   "source": [
    "def plotPoints(cx, cy, colors):\n",
    "    plt.scatter(cx, cy, color=colors)\n",
    "\n",
    "def plotCircles(ax, cx, cy, colors, _alpha=1):\n",
    "    circle = [plt.Circle((cx[i],cy[i]), 1, color=colors[i], fill=False, alpha=_alpha) for i in range(0,len(cx))]\n",
    "    for i in range(0,len(cx)):\n",
    "        ax.add_artist(circle[i])\n",
    "\n",
    "def plotInter(ax, cx, cy, colors):\n",
    "    a = [sg.Point(cx[i],cy[i]).buffer(1.) for i in range(0,3)]\n",
    "    inter = a[0].intersection(a[1])\n",
    "    for i in range(1, len(cx)):\n",
    "        inter = inter.intersection(a[2])\n",
    "    ax.add_patch(descartes.PolygonPatch(inter, fc='r', ec='k', alpha=0.2))"
   ]
  },
  {
   "cell_type": "code",
   "execution_count": 49,
   "metadata": {},
   "outputs": [],
   "source": [
    "ax = plt.gca()\n",
    "\n",
    "#plot settings\n",
    "#plt.axis('off')"
   ]
  },
  {
   "cell_type": "code",
   "execution_count": 73,
   "metadata": {},
   "outputs": [],
   "source": [
    "plt.figure(1)\n",
    "plt.axis('off')\n",
    "ax = plt.gca()\n",
    "plt.xlim(-2,2)\n",
    "plt.ylim(-2,2)\n",
    "ax.set_aspect('equal')\n",
    "\n",
    "plotPoints(cx, cy, colors)\n",
    "plt.savefig(\"mwc_1.pdf\", bbox_inches='tight')\n",
    "plt.close()"
   ]
  },
  {
   "cell_type": "code",
   "execution_count": 74,
   "metadata": {},
   "outputs": [],
   "source": [
    "plt.figure(2)\n",
    "plt.axis('off')\n",
    "ax = plt.gca()\n",
    "\n",
    "\n",
    "plotPoints(cx, cy, colors)\n",
    "plotCircles(ax, cx, cy, colors)\n",
    "plotInter(ax, cx, cy, colors)\n",
    "\n",
    "plt.xlim(-2,2)\n",
    "plt.ylim(-2,2)\n",
    "ax.set_aspect('equal')\n",
    "\n",
    "plt.savefig(\"mwc_2.pdf\", bbox_inches='tight')\n",
    "plt.close()"
   ]
  },
  {
   "cell_type": "code",
   "execution_count": 75,
   "metadata": {},
   "outputs": [],
   "source": [
    "plt.figure(3)\n",
    "plt.axis('off')\n",
    "ax = plt.gca()\n",
    "plt.xlim(-2,2)\n",
    "plt.ylim(-2,2)\n",
    "\n",
    "plotPoints(0, -0.2, 'gray')\n",
    "plotPoints(cx, cy, colors)\n",
    "plotCircles(ax, cx, cy, colors, 0.6)\n",
    "plotInter(ax, cx, cy, colors)\n",
    "\n",
    "cco = plt.Circle((0, -0.2), 1, color='gray', alpha=.4)\n",
    "ax.add_artist(cco)\n",
    "\n",
    "ax.set_aspect('equal')\n",
    "plt.savefig(\"mwc_3.pdf\", bbox_inches='tight')\n",
    "plt.close()"
   ]
  },
  {
   "cell_type": "code",
   "execution_count": null,
   "metadata": {},
   "outputs": [],
   "source": []
  }
 ],
 "metadata": {
  "@webio": {
   "lastCommId": null,
   "lastKernelId": null
  },
  "kernelspec": {
   "display_name": "Python 3",
   "language": "python",
   "name": "python3"
  },
  "language_info": {
   "codemirror_mode": {
    "name": "ipython",
    "version": 3
   },
   "file_extension": ".py",
   "mimetype": "text/x-python",
   "name": "python",
   "nbconvert_exporter": "python",
   "pygments_lexer": "ipython3",
   "version": "3.7.3"
  }
 },
 "nbformat": 4,
 "nbformat_minor": 2
}
