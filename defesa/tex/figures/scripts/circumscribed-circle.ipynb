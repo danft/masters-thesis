{
 "cells": [
  {
   "cell_type": "code",
   "execution_count": 37,
   "metadata": {},
   "outputs": [
    {
     "name": "stdout",
     "output_type": "stream",
     "text": [
      "The autoreload extension is already loaded. To reload it, use:\n",
      "  %reload_ext autoreload\n"
     ]
    }
   ],
   "source": [
    "from math import cos, sin, pi, sqrt, tan, fabs\n",
    "import numpy as np\n",
    "import matplotlib.pyplot as plt\n",
    "import matplotlib as mpl\n",
    "import sys\n",
    "\n",
    "from matplotlib import patches\n",
    "import random\n",
    "\n",
    "mpl.use('pdf')\n",
    "\n",
    "plt.rc('font', family='serif')\n",
    "plt.rc('text', usetex=True)\n",
    "plt.rc('lines', linewidth=1)\n",
    "plt.rc('lines', markersize=4)\n",
    "plt.rc('patch', linewidth=1.5)\n",
    "\n",
    "plt.rc('savefig', dpi=300)\n",
    "\n",
    "\n",
    "#plt.rc('xtick', bottom=False)\n",
    "#plt.rc('xtick', top=False)\n",
    "#plt.rc('xtick', labeltop=False)\n",
    "#plt.rc('xtick', labelbottom=False)\n",
    "\n",
    "\n",
    "#plt.rc('ytick', right=False)\n",
    "#plt.rc('ytick', left=False)\n",
    "#plt.rc('ytick', labelsize=0)\n",
    "#plt.rc('ytick', labelleft=False)\n",
    "#plt.rc('ytick', labelright=False)\n",
    "\n",
    "\n",
    "%load_ext autoreload\n",
    "%autoreload 2"
   ]
  },
  {
   "cell_type": "code",
   "execution_count": 38,
   "metadata": {},
   "outputs": [],
   "source": [
    "def set_size(width, fraction=1):\n",
    "    \"\"\" Set aesthetic figure dimensions to avoid scaling in latex.\n",
    "\n",
    "    Parameters\n",
    "    ----------\n",
    "    width: float\n",
    "            Width in pts\n",
    "    fraction: float\n",
    "            Fraction of the width which you wish the figure to occupy\n",
    "\n",
    "    Returns\n",
    "    -------\n",
    "    fig_dim: tuple\n",
    "            Dimensions of figure in inches\n",
    "    \"\"\"\n",
    "    # Width of figure\n",
    "    fig_width_pt = width * fraction\n",
    "\n",
    "    # Convert from pt to inches\n",
    "    inches_per_pt = 1 / 72.27\n",
    "\n",
    "    # Golden ratio to set aesthetic figure height\n",
    "    golden_ratio = (5**.5 - 1) / 2\n",
    "\n",
    "    # Figure width in inches\n",
    "    fig_width_in = fig_width_pt * inches_per_pt\n",
    "    # Figure height in inches\n",
    "    fig_height_in = fig_width_in * golden_ratio\n",
    "\n",
    "    fig_dim = (fig_width_in, fig_height_in)\n",
    "\n",
    "    return fig_dim\n",
    "\n",
    "def rot(x, y, theta):\n",
    "    return x * cos(theta) - y * sin(theta), x * sin(theta) + y * cos(theta)"
   ]
  },
  {
   "cell_type": "code",
   "execution_count": 49,
   "metadata": {},
   "outputs": [
    {
     "data": {
      "image/png": "[encoded data removed]",
      "text/plain": [
       "<Figure size 362.64x224.124 with 1 Axes>"
      ]
     },
     "metadata": {
      "needs_background": "light"
     },
     "output_type": "display_data"
    }
   ],
   "source": [
    "a = 2.1\n",
    "b = 0.9\n",
    "\n",
    "X = [0, a, 2*a]\n",
    "Y = [0, b, 0]\n",
    "\n",
    "t1 = pi/3\n",
    "\n",
    "for i in range(3):\n",
    "    X[i], Y[i] = rot(X[i], Y[i], t1)\n",
    "\n",
    "xc, yc = rot(a, 0, t1)\n",
    "\n",
    "fig = plt.figure(figsize=set_size(455, .8))\n",
    "ax = fig.add_subplot(111, aspect='equal')\n",
    "ax.scatter(X, Y)\n",
    "\n",
    "e = patches.Ellipse(xy=[xc, yc], width=2*a, height=2*b, angle=180 * t1/pi, fill=False)\n",
    "ax.add_patch(e)\n",
    "\n",
    "ax.set_xlim(-1, 6.3)\n",
    "ax.set_ylim(-2, 4)\n",
    "\n",
    "X = [0, a, 2*a]\n",
    "Y = [0, b, 0]\n",
    "ax.scatter(X, Y)\n",
    "\n",
    "\n",
    "xc, yc = a, 0\n",
    "e = patches.Ellipse(xy=[xc, yc], width=2*a, height=2*b, angle=0, fill=False, linestyle='--')\n",
    "ax.add_artist(e)\n",
    "\n",
    "c1 = patches.Circle((b, 0), b, fill=False, linestyle=':')\n",
    "\n",
    "X = [0, b, 2*b]\n",
    "Y = [0, b, 0]\n",
    "ax.scatter(X, Y)\n",
    "\n",
    "tr = plt.Polygon(xy=[[X[0], Y[0]], [X[1], Y[1]], [X[2], Y[2]]], alpha=.3)\n",
    "ax.add_patch(tr)\n",
    "ax.add_artist(c1)\n",
    "\n",
    "ax.plot([],[], linestyle='-', lw=2, c='black', label=r\"T1\")\n",
    "ax.plot([],[], linestyle='--', lw=2, c='black', label=r\"T2\")\n",
    "ax.plot([],[], linestyle=':', lw=2, c='black', label=r\"T3\")\n",
    "\n",
    "\n",
    "ax.legend(frameon=False, loc='upper right')\n",
    "\n",
    "plt.savefig('circumscribed-circle.pdf', format='pdf', bbox_inches='tight')\n",
    "plt.show()"
   ]
  },
  {
   "cell_type": "code",
   "execution_count": 83,
   "metadata": {},
   "outputs": [
    {
     "name": "stdout",
     "output_type": "stream",
     "text": [
      "2000\n"
     ]
    },
    {
     "data": {
      "image/png": "[encoded data removed]",
      "text/plain": [
       "<Figure size 432x288 with 1 Axes>"
      ]
     },
     "metadata": {
      "needs_background": "light"
     },
     "output_type": "display_data"
    }
   ],
   "source": [
    "arr = np.linspace(-10, 10, 2000)\n",
    "a = 2\n",
    "b = 1\n",
    "\n",
    "X = [random.random()*2 - 1 for i in range(3)]\n",
    "Y = [random.random()*2 - 1 for i in range(3)]\n",
    "X[0], Y[0] = 0, 0\n",
    "\n",
    "#X = [0, .1+a, 2*a]\n",
    "#Y = [0, b, 0]\n",
    "\n",
    "def dist(X, Y):\n",
    "    return sqrt((X[0]-X[1])**2 + (Y[0]-Y[1])**2)\n",
    "\n",
    "def c(t):\n",
    "    return (t**2-1)/(t**2+1)\n",
    "    \n",
    "def s(t):\n",
    "    return (2*t)/(t**2+1)\n",
    "\n",
    "def f(x, y, t):\n",
    "    return b/a * (x * c(t) + y * s(t)), x * s(t) - y * c(t)\n",
    "\n",
    "ds = []\n",
    "\n",
    "for t in arr:\n",
    "    #t = tan(tt)\n",
    "    Xt = [f(X[i], Y[i], t)[0] for i in range(3)]\n",
    "    Yt = [f(X[i], Y[i], t)[1] for i in range(3)]\n",
    "    \n",
    "    du = dist([Xt[1], Xt[2]], [Yt[1], Yt[2]])\n",
    "    dv = dist([0, Xt[1]], [0, Yt[1]])\n",
    "    dw = dist([0, Xt[2]], [0, Yt[2]])\n",
    "    \n",
    "    A = abs(.5 * (Xt[1] * Yt[2] - Xt[2] * Yt[1]))\n",
    "    #ds.append(dw)\n",
    "    ds.append((du*dv*dw)/(4*A))\n",
    "\n",
    "print(len(ds))\n",
    "plt.plot(arr, ds, lw=2)\n",
    "\n",
    "plt.show()\n",
    "    \n"
   ]
  },
  {
   "cell_type": "code",
   "execution_count": null,
   "metadata": {},
   "outputs": [],
   "source": []
  }
 ],
 "metadata": {
  "@webio": {
   "lastCommId": null,
   "lastKernelId": null
  },
  "kernelspec": {
   "display_name": "Python 3",
   "language": "python",
   "name": "python3"
  },
  "language_info": {
   "codemirror_mode": {
    "name": "ipython",
    "version": 3
   },
   "file_extension": ".py",
   "mimetype": "text/x-python",
   "name": "python",
   "nbconvert_exporter": "python",
   "pygments_lexer": "ipython3",
   "version": "3.7.3"
  }
 },
 "nbformat": 4,
 "nbformat_minor": 2
}
