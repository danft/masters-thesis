{
 "cells": [
  {
   "cell_type": "code",
   "execution_count": 170,
   "metadata": {},
   "outputs": [
    {
     "name": "stdout",
     "output_type": "stream",
     "text": [
      "The autoreload extension is already loaded. To reload it, use:\n",
      "  %reload_ext autoreload\n"
     ]
    }
   ],
   "source": [
    "from math import cos, sin, pi, sqrt, tan, fabs\n",
    "import numpy as np\n",
    "import matplotlib.pyplot as plt\n",
    "import matplotlib as mpl\n",
    "import sys\n",
    "\n",
    "from matplotlib import patches\n",
    "import random\n",
    "\n",
    "mpl.use('pdf')\n",
    "\n",
    "plt.rc('font', family='serif')\n",
    "plt.rc('text', usetex=True)\n",
    "plt.rc('lines', linewidth=1)\n",
    "plt.rc('lines', markersize=5)\n",
    "plt.rc('patch', linewidth=1.5)\n",
    "\n",
    "plt.rc('savefig', dpi=300)\n",
    "\n",
    "\n",
    "plt.rc('xtick', bottom=False)\n",
    "plt.rc('xtick', top=False)\n",
    "plt.rc('xtick', labeltop=False)\n",
    "plt.rc('xtick', labelbottom=False)\n",
    "\n",
    "\n",
    "plt.rc('ytick', right=False)\n",
    "plt.rc('ytick', left=False)\n",
    "plt.rc('ytick', labelsize=0)\n",
    "plt.rc('ytick', labelleft=False)\n",
    "plt.rc('ytick', labelright=False)\n",
    "\n",
    "\n",
    "%load_ext autoreload\n",
    "%autoreload 2"
   ]
  },
  {
   "cell_type": "code",
   "execution_count": 239,
   "metadata": {},
   "outputs": [],
   "source": [
    "\n",
    "def plotellipse_and_points(ax, a, b, X, Y, theta=0, **kwargs):\n",
    "    #ax.set_axis_off()\n",
    "    ax.scatter(X, Y, **kwargs)\n",
    "    e = patches.Ellipse(xy=[0, 0], width=2*a, height=2*b,\n",
    "                         angle=180 *theta/pi, fill=False)\n",
    "    ax.add_artist(e)\n",
    "    ax.set_xlim(-3, 3)\n",
    "    ax.set_ylim(-2, 2)\n",
    "\n",
    "def plotellipse_fitpoints(ax, a, b, X, Y, theta=0, pltpoints=True, **kwargs):\n",
    "    xc, yc = get_center(a, b, X, Y, theta)\n",
    "    e = patches.Ellipse(xy=[xc, yc], width=2*a, height=2*b,\n",
    "                         angle=180 * theta/pi, fill=False)\n",
    "    if pltpoints:\n",
    "        ax.scatter(X, Y, **kwargs)\n",
    "\n",
    "    ax.add_patch(e)\n",
    "    ax.set_xlim(-3, 3)\n",
    "    ax.set_ylim(-2, 2)\n",
    "\n",
    "    "
   ]
  },
  {
   "cell_type": "code",
   "execution_count": 240,
   "metadata": {},
   "outputs": [],
   "source": [
    "def rot(x, y, theta):\n",
    "    return x * cos(theta) - y * sin(theta), x * sin(theta) + y * cos(theta)\n",
    "\n",
    "def distsq(X, Y):\n",
    "    return (X[0]-X[1])**2 + (Y[0]-Y[1])**2\n",
    "\n",
    "def get_center(a, b, X, Y, theta):\n",
    "    for i in range(len(X)):\n",
    "        X[i], Y[i] = rot(X[i], Y[i], -theta)\n",
    "\n",
    "    m = (Y[1]-Y[0])/(X[1]-X[0])\n",
    "    D = distsq(X, Y)\n",
    "    A = 4*a**2*b**2 + 4*a**2*b**2*m**2\n",
    "    B = a**2*m**2 + b**2\n",
    "    \n",
    "    c = sqrt((B*A - D*B**2)/A)\n",
    "    \n",
    "    x1 = (-a**2*m*c - a*b*sqrt(a**2*m**2+b**2-c**2))/(a**2*m**2 + b**2)\n",
    "    x2 = (-a**2*m*c + a*b*sqrt(a**2*m**2+b**2-c**2))/(a**2*m**2 + b**2)\n",
    "    if x1 > x2:\n",
    "        x2, x1 = x1, x2\n",
    "    \n",
    "    y2 = x2 * m + c\n",
    "    y1 = x1 * m + c\n",
    "    \n",
    "    xc, yc = 0, 0\n",
    "    \n",
    "    if X[0] < X[1]:\n",
    "        xc = -x1+X[0]\n",
    "        yc = -y1+Y[0]\n",
    "    else:\n",
    "        xc = -x2+X[0]\n",
    "        yc = -y2+Y[0]\n",
    "    \n",
    "    xc, yc = rot(xc,yc, theta)\n",
    "    \n",
    "    for i in range(len(X)):\n",
    "        X[i], Y[i] = rot(X[i], Y[i], theta)\n",
    "        \n",
    "    return xc, yc    "
   ]
  },
  {
   "cell_type": "code",
   "execution_count": 250,
   "metadata": {},
   "outputs": [
    {
     "data": {
      "image/png": "[encoded data removed]",
      "text/plain": [
       "<Figure size 453.3x280.155 with 2 Axes>"
      ]
     },
     "metadata": {},
     "output_type": "display_data"
    }
   ],
   "source": [
    "a = 1.7\n",
    "b = 1\n",
    "X = [-0.5, 0.5,-0.3,0.1,0.9]\n",
    "Y = [0.6, 1, 0,-0.1, -0.2]\n",
    "#Y = [random.random()*2 - 1 for i in range(3)]\n",
    "fig = plt.figure(figsize=set_size(455))\n",
    "ax = fig.add_subplot(121, aspect='equal')\n",
    "plotellipse_and_points(ax, a, b, X, Y, 0.5, lw=0.4)\n",
    "\n",
    "#ax.scatter([-2.5, 2.8], [1, 1])\n",
    "\n",
    "plt.show()\n",
    "\n",
    "#fig = plt.figure()\n",
    "ax = fig.add_subplot(122, aspect='equal')\n",
    "plotellipse_fitpoints(ax, a, b, X, Y, 0.5, lw=0.4)\n",
    "plt.savefig('ellipse-2-points.pdf', format='pdf', bbox_inches='tight')\n",
    "#plt.show()"
   ]
  },
  {
   "cell_type": "code",
   "execution_count": 247,
   "metadata": {},
   "outputs": [
    {
     "data": {
      "image/png": "[encoded data removed]",
      "text/plain": [
       "<Figure size 353.674x218.582 with 1 Axes>"
      ]
     },
     "metadata": {},
     "output_type": "display_data"
    }
   ],
   "source": [
    "a = 1.7\n",
    "b = 1\n",
    "X = [-1, 1.3]\n",
    "Y = [0.2, 0.2]\n",
    "fig = plt.figure(figsize=set_size(355))\n",
    "#ax = fig.add_subplot(121, aspect='equal')\n",
    "#plotellipse_fitpoints(ax, a, b, X, Y, 0, True)\n",
    "#ax.plot([], [], label=r'$E(q, \\frac{\\pi}{4})$', c='black')\n",
    "#ax.legend(frameon=False, loc='upper left')\n",
    "\n",
    "ax = fig.add_subplot(111, aspect='equal')\n",
    "plotellipse_fitpoints(ax, a, b, X, Y, pi/4, True, lw=2)\n",
    "ax.plot([], [], label=r'$E(q_1,\\pi/4)$', lw=2, c='black')\n",
    "ax.plot([], [], label=r'$E(q_2,\\pi/2)$', lw=2, c='black', linestyle='--')\n",
    "\n",
    "ax.legend(frameon=False, loc='upper left')\n",
    "\n",
    "e = patches.Ellipse(xy=[0, 0], width=2*a, height=2*b,\n",
    "                         angle=90, fill=False, linestyle='--')\n",
    "ax.add_artist(e)\n",
    "\n",
    "#plotellipse_fitpoints(ax, a, b, X, Y, 0, False)\n",
    "plt.savefig('feasible-angle.pdf', format='pdf', bbox_inches='tight')\n",
    "plt.show()"
   ]
  },
  {
   "cell_type": "code",
   "execution_count": 333,
   "metadata": {},
   "outputs": [
    {
     "data": {
      "image/png": "[encoded data removed]",
      "text/plain": [
       "<Figure size 353.674x218.582 with 1 Axes>"
      ]
     },
     "metadata": {},
     "output_type": "display_data"
    }
   ],
   "source": [
    "a = 1.7\n",
    "b = 0.9\n",
    "X = [-1, 1]\n",
    "Y = [0.3, 0.3]\n",
    "fig = plt.figure(figsize=set_size(355))\n",
    "#ax = fig.add_subplot(121, aspect='equal')\n",
    "#plotellipse_fitpoints(ax, a, b, X, Y, 0, True)\n",
    "#ax.plot([], [], label=r'$E(q, \\frac{\\pi}{4})$', c='black')\n",
    "#ax.legend(frameon=False, loc='upper left')\n",
    "\n",
    "ax = fig.add_subplot(111, aspect='equal')\n",
    "plotellipse_fitpoints(ax, a, b, X, Y, 0, True, lw=2)\n",
    "\n",
    "xc, yc = get_center(a, b, X, Y, pi/4+0.22)\n",
    "e = patches.Ellipse(xy=[xc, yc], width=2*a, height=2*b, angle=180/pi*(pi/4+0.2), fill=False, alpha=.7)\n",
    "ax.add_artist(e)\n",
    "\n",
    "\n",
    "#xc, yc = get_center(a, b, X, Y, pi/4+0.1)\n",
    "#e = patches.Ellipse(xy=[xc, yc], width=2*a, height=2*b, angle=180/pi*(pi/4+0.1), fill=False, alpha=.6)\n",
    "#ax.add_artist(e)\n",
    "\n",
    "xc, yc = get_center(a, b, X, Y, -pi/8)\n",
    "e = patches.Ellipse(xy=[xc, yc], width=2*a, height=2*b, angle=-180/pi*(pi/8), fill=False, alpha=.4)\n",
    "ax.add_artist(e)\n",
    "\n",
    "d = sqrt(distsq(X, Y))\n",
    "c1 = patches.Circle((X[0], Y[0]),d, alpha=.1, color='r')\n",
    "c2 = patches.Circle((X[1], Y[1]),d, alpha=.1)\n",
    "#ax.add_artist(c1)\n",
    "#ax.add_artist(c2)\n",
    "\n",
    "ax.scatter([-.65],[-0.8], marker='s', label=\"First case\")\n",
    "ax.scatter([-0.5], [0], marker='^', label=\"Second case\")\n",
    "\n",
    "\n",
    "#ax.plot([], [], label=r'$E(q_1,\\pi/4)$', lw=2, c='black')\n",
    "#ax.plot([], [], label=r'$E(q_2,\\pi/2)$', lw=2, c='black', linestyle='--')\n",
    "\n",
    "ax.legend(frameon=False, loc='upper left')\n",
    "\n",
    "\n",
    "\n",
    "#e = patches.Ellipse(xy=[0, 0], width=2*a, height=2*b,\n",
    "#                         angle=0, fill=False, linestyle=':')\n",
    "#ax.add_artist(e)\n",
    "\n",
    "#plotellipse_fitpoints(ax, a, b, X, Y, 0, False)\n",
    "plt.savefig('lema-3-points.pdf', format='pdf', bbox_inches='tight')\n",
    "#plt.show()"
   ]
  },
  {
   "cell_type": "code",
   "execution_count": 251,
   "metadata": {},
   "outputs": [],
   "source": [
    "def set_size(width, fraction=1):\n",
    "    \"\"\" Set aesthetic figure dimensions to avoid scaling in latex.\n",
    "\n",
    "    Parameters\n",
    "    ----------\n",
    "    width: float\n",
    "            Width in pts\n",
    "    fraction: float\n",
    "            Fraction of the width which you wish the figure to occupy\n",
    "\n",
    "    Returns\n",
    "    -------\n",
    "    fig_dim: tuple\n",
    "            Dimensions of figure in inches\n",
    "    \"\"\"\n",
    "    # Width of figure\n",
    "    fig_width_pt = width * fraction\n",
    "\n",
    "    # Convert from pt to inches\n",
    "    inches_per_pt = 1 / 72.27\n",
    "\n",
    "    # Golden ratio to set aesthetic figure height\n",
    "    golden_ratio = (5**.5 - 1) / 2\n",
    "\n",
    "    # Figure width in inches\n",
    "    fig_width_in = fig_width_pt * inches_per_pt\n",
    "    # Figure height in inches\n",
    "    fig_height_in = fig_width_in * golden_ratio\n",
    "\n",
    "    fig_dim = (fig_width_in, fig_height_in)\n",
    "\n",
    "    return fig_dim\n"
   ]
  }
 ],
 "metadata": {
  "@webio": {
   "lastCommId": null,
   "lastKernelId": null
  },
  "kernelspec": {
   "display_name": "Python 3",
   "language": "python",
   "name": "python3"
  },
  "language_info": {
   "codemirror_mode": {
    "name": "ipython",
    "version": 3
   },
   "file_extension": ".py",
   "mimetype": "text/x-python",
   "name": "python",
   "nbconvert_exporter": "python",
   "pygments_lexer": "ipython3",
   "version": "3.7.3"
  }
 },
 "nbformat": 4,
 "nbformat_minor": 2
}
