{
 "cells": [
  {
   "cell_type": "code",
   "execution_count": 8,
   "metadata": {},
   "outputs": [
    {
     "name": "stdout",
     "output_type": "stream",
     "text": [
      "The autoreload extension is already loaded. To reload it, use:\n",
      "  %reload_ext autoreload\n"
     ]
    }
   ],
   "source": [
    "from math import cos, sin, pi, sqrt, tan, fabs\n",
    "import numpy as np\n",
    "import matplotlib.pyplot as plt\n",
    "\n",
    "from matplotlib import patches\n",
    "from matplotlib import rc\n",
    "import random\n",
    "\n",
    "rc('text', usetex=True)\n",
    "\n",
    "%load_ext autoreload\n",
    "%autoreload 2"
   ]
  },
  {
   "cell_type": "code",
   "execution_count": 20,
   "metadata": {},
   "outputs": [],
   "source": [
    "def get_center(a, b, X, Y, theta):\n",
    "    m = tan(theta)\n",
    "    \n",
    "    B = a ** 2 * m ** 2 + b ** 2\n",
    "    A = 4 * a ** 2 * b ** 2 * (1 + m ** 2)\n",
    "    c = sqrt((B * A - self.ctx.d * B ** 2) / A)\n",
    "    xd = (-a ** 2 * m * c + a * b * sqrt(a ** 2 * m ** 2 + b ** 2 - c ** 2)) / (a ** 2 * m ** 2 + b ** 2)\n",
    "    yd = xd * m + c\n",
    "\n",
    "    ppx = self.ctx.px(theta)\n",
    "    ppy = self.ctx.py(theta)\n",
    "    bx = xd - ppx\n",
    "    by = yd - ppy\n",
    "\n",
    "    xc = bx * cos(theta) + by * sin(theta)\n",
    "    yc = bx * sin(theta) - by * cos(theta)\n",
    "    return xc, yc"
   ]
  },
  {
   "cell_type": "code",
   "execution_count": 18,
   "metadata": {},
   "outputs": [],
   "source": [
    "\n",
    "def plotellipse_and_points(ax, a, b, X, Y, theta=0):\n",
    "    #ax.set_axis_off()\n",
    "    ax.scatter(X, Y)\n",
    "    e = patches.Ellipse(xy=[0, 0], width=2*a, height=2*b,\n",
    "                         angle=theta*pi/180, fill=False)\n",
    "    ax.add_artist(e)\n",
    "    ax.set_xlim(-3, 3)\n",
    "    ax.set_ylim(-3, 3)\n",
    "\n",
    "def plotellipse_fitpoints(ax, a, b, X, Y, )\n",
    "    "
   ]
  },
  {
   "cell_type": "code",
   "execution_count": 19,
   "metadata": {},
   "outputs": [
    {
     "data": {
      "image/png": "[encoded data removed]",
      "text/plain": [
       "<Figure size 432x288 with 1 Axes>"
      ]
     },
     "metadata": {
      "needs_background": "light"
     },
     "output_type": "display_data"
    }
   ],
   "source": [
    "a = 2\n",
    "b = 1\n",
    "X = [random.random()*2 - 1 for i in range(3)]\n",
    "Y = [random.random()*2 - 1 for i in range(3)]\n",
    "fig = plt.figure()\n",
    "ax = fig.add_subplot(111, aspect='equal')\n",
    "plotellipse_and_points(ax, a, b, X, Y)\n",
    "plt.show()"
   ]
  }
 ],
 "metadata": {
  "kernelspec": {
   "display_name": "Python 3",
   "language": "python",
   "name": "python3"
  },
  "language_info": {
   "codemirror_mode": {
    "name": "ipython",
    "version": 3
   },
   "file_extension": ".py",
   "mimetype": "text/x-python",
   "name": "python",
   "nbconvert_exporter": "python",
   "pygments_lexer": "ipython3",
   "version": "3.7.3"
  }
 },
 "nbformat": 4,
 "nbformat_minor": 2
}
